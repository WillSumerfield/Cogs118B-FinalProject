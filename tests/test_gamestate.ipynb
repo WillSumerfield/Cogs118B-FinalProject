{
  "cells": [
    {
      "cell_type": "code",
      "metadata": {},
      "source": [
        "import pytest\n",
        "import numpy as np\n",
        "from Game.gamestate import Gamestate\n",
        "\n",
        "\n",
        "@pytest.fixture()\n",
        "def create_game():\n",
        "    return Gamestate(None, None)\n",
        "\n",
        "\n",
        "def test_gamestate(gamestate: Gamestate):\n",
        "\n",
        "    # Check for correct instantiation\n",
        "    assert isinstance(gamestate, Gamestate)\n",
        "    assert isinstance(gamestate.left_striker, gamestate.Striker)\n",
        "    assert isinstance(gamestate.right_striker, gamestate.Striker)\n",
        "    assert isinstance(gamestate.ball, gamestate.Ball)\n",
        "\n",
        "    # Check collisions\n",
        "\n",
        "    # Check tick\n",
        "\n",
        "    # Check game end\n",
        "    assert gamestate.game_end(Gamestate.LEFT) == np.array([1, 0])\n",
        "    assert gamestate.game_end(Gamestate.RIGHT) == np.array([0, 1])\n"
      ],
      "outputs": [],
      "execution_count": null
    }
  ],
  "metadata": {
    "anaconda-cloud": {},
    "kernelspec": {
      "display_name": "Python 3",
      "language": "python",
      "name": "python3"
    },
    "language_info": {
      "codemirror_mode": {
        "name": "ipython",
        "version": 3
      },
      "file_extension": ".py",
      "mimetype": "text/x-python",
      "name": "python",
      "nbconvert_exporter": "python",
      "pygments_lexer": "ipython3",
      "version": "3.6.1"
    }
  },
  "nbformat": 4,
  "nbformat_minor": 4
}