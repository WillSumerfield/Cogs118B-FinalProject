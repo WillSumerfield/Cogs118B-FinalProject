{
  "cells": [
    {
      "cell_type": "code",
      "metadata": {},
      "source": [
        "def test_striker(gamestate: Gamestate):\n",
        "\n",
        "    # Check position\n",
        "    assert gamestate.left_striker.position == np.array([100, 100])\n",
        "    assert gamestate.right_striker.position == np.array([500, 100])\n",
        "\n",
        "    # Check velocity\n",
        "    assert gamestate.left_striker._velocity[0] == 0 and gamestate.left_striker._velocity[1] == 0\n",
        "    assert gamestate.right_striker._velocity[0] == 0 and gamestate.right_striker._velocity[1] == 0\n",
        "\n",
        "    # Check cooldown\n",
        "    assert gamestate.left_striker._cooldown == gamestate.left_striker.MAX_COOLDOWN\n",
        "    assert gamestate.right_striker._cooldown == gamestate.right_striker.MAX_COOLDOWN\n",
        "\n",
        "    # Check wall collisions\n",
        "\n",
        "    # Check ball collisions\n"
      ],
      "outputs": [],
      "execution_count": null
    }
  ],
  "metadata": {
    "anaconda-cloud": {},
    "kernelspec": {
      "display_name": "Python 3",
      "language": "python",
      "name": "python3"
    },
    "language_info": {
      "codemirror_mode": {
        "name": "ipython",
        "version": 3
      },
      "file_extension": ".py",
      "mimetype": "text/x-python",
      "name": "python",
      "nbconvert_exporter": "python",
      "pygments_lexer": "ipython3",
      "version": "3.6.1"
    }
  },
  "nbformat": 4,
  "nbformat_minor": 4
}